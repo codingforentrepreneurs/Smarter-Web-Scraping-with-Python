{
 "cells": [
  {
   "cell_type": "code",
   "execution_count": 2,
   "id": "3f5fc0fe-7a25-46fa-bbdc-eb34fda621e6",
   "metadata": {},
   "outputs": [],
   "source": [
    "import os\n",
    "CONFIG_READY = os.environ.get(\"CONFIG_READY\")\n",
    "CONFIG_READY"
   ]
  },
  {
   "cell_type": "code",
   "execution_count": 3,
   "id": "51c86b48-25cc-4f82-9cab-479e5ff05c48",
   "metadata": {},
   "outputs": [],
   "source": [
    "from decouple import config\n",
    "CONFIG_READY = config(\"CONFIG_READY\", default=None)\n",
    "CONFIG_READY"
   ]
  },
  {
   "cell_type": "code",
   "execution_count": 5,
   "id": "ae54960b-6d83-4ddd-b6d6-45a2f741d83a",
   "metadata": {},
   "outputs": [
    {
     "data": {
      "text/plain": [
       "True"
      ]
     },
     "execution_count": 5,
     "metadata": {},
     "output_type": "execute_result"
    }
   ],
   "source": [
    "import helpers\n",
    "CONFIG_READY = helpers.config(\"CONFIG_READY\", default=False, cast=bool)\n",
    "CONFIG_READY"
   ]
  },
  {
   "cell_type": "code",
   "execution_count": null,
   "id": "5a6ceb11-d7d1-4b8b-aa1c-b843eb39bf6f",
   "metadata": {},
   "outputs": [],
   "source": []
  }
 ],
 "metadata": {
  "kernelspec": {
   "display_name": "Python 3 (ipykernel)",
   "language": "python",
   "name": "python3"
  },
  "language_info": {
   "codemirror_mode": {
    "name": "ipython",
    "version": 3
   },
   "file_extension": ".py",
   "mimetype": "text/x-python",
   "name": "python",
   "nbconvert_exporter": "python",
   "pygments_lexer": "ipython3",
   "version": "3.11.4"
  }
 },
 "nbformat": 4,
 "nbformat_minor": 5
}
