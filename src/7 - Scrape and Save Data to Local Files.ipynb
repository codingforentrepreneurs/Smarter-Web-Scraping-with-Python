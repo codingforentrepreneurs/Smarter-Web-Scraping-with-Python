{
 "cells": [
  {
   "cell_type": "code",
   "execution_count": 14,
   "id": "580906bd-e3f7-48da-9a9a-df0e02e711de",
   "metadata": {},
   "outputs": [],
   "source": [
    "import time\n",
    "from datetime import datetime, timezone\n",
    "import pathlib\n",
    "import json\n",
    "from selenium.webdriver import Remote, ChromeOptions\n",
    "from bs4 import BeautifulSoup\n",
    "\n",
    "import helpers\n",
    "\n",
    "now = datetime.now(timezone.utc)\n",
    "# today = now.strftime(\"%Y-%m-%d\")\n",
    "today = \"2024-02-13\""
   ]
  },
  {
   "cell_type": "code",
   "execution_count": 15,
   "id": "8b6122bc-9571-4a82-b04d-41a84b653177",
   "metadata": {},
   "outputs": [
    {
     "name": "stdout",
     "output_type": "stream",
     "text": [
      "/Users/cfe/Dev/smarter-scraping /Users/cfe/Dev/smarter-scraping/dataset/2024-02-13/posts True\n"
     ]
    }
   ],
   "source": [
    "NBS_DIR = pathlib.Path().resolve().parent\n",
    "BASE_DIR = NBS_DIR\n",
    "DATASET_DIR = BASE_DIR / \"dataset\"\n",
    "TODAYS_DIR = DATASET_DIR / today\n",
    "POSTS_DIR = TODAYS_DIR / \"posts\" \n",
    "print(BASE_DIR, POSTS_DIR, POSTS_DIR.exists())"
   ]
  },
  {
   "cell_type": "code",
   "execution_count": 3,
   "id": "00b01ff2-eea5-4b8f-b5c3-606c9fb3631d",
   "metadata": {},
   "outputs": [],
   "source": [
    "POSTS_DIR.mkdir(parents=True, exist_ok=True)"
   ]
  },
  {
   "cell_type": "code",
   "execution_count": 4,
   "id": "f7108772-334d-4229-a77a-fafb431613cf",
   "metadata": {},
   "outputs": [],
   "source": [
    "options = ChromeOptions()\n",
    "max_pages = 1\n",
    "today = \"2024-02-13\"\n",
    "\n",
    "# disable downloading images\n",
    "prefs = {\"profile.managed_default_content_settings.images\": 2}\n",
    "options.add_experimental_option(\"prefs\", prefs)\n",
    "\n",
    "now = datetime.now(timezone.utc)\n",
    "# today = now.strftime(\"%Y-%m-%d\")\n",
    "\n",
    "url_pattern = \"https://news.ycombinator.com/front?day={day}&p={page}\"\n",
    "detail_pattern = \"https://news.ycombinator.com/item?id={item_id}\"\n",
    "sbr_connection = helpers.get_sbr_connection()"
   ]
  },
  {
   "cell_type": "code",
   "execution_count": 5,
   "id": "0d0df057-aa79-416f-9947-8a634f0dfd33",
   "metadata": {},
   "outputs": [
    {
     "name": "stdout",
     "output_type": "stream",
     "text": [
      "1 https://news.ycombinator.com/front?day=2024-02-15&p=1\n"
     ]
    }
   ],
   "source": [
    "html_datas = []\n",
    "with Remote(sbr_connection, options=options) as driver:\n",
    "    for page in range(1, max_pages + 1):\n",
    "        url = url_pattern.format(day=today, page=page)\n",
    "        print(page, url)\n",
    "        driver.get(url) # HTTP GET\n",
    "        time.sleep(2)\n",
    "        html_source = driver.page_source \n",
    "        html_datas.append(html_source)"
   ]
  },
  {
   "cell_type": "code",
   "execution_count": 6,
   "id": "c9a83f78-bae5-41fd-84b0-e166bac2c600",
   "metadata": {},
   "outputs": [],
   "source": [
    "def extract_post_data(tr):\n",
    "    id = tr.attrs.get('id')\n",
    "    next_tr = tr.find_next('tr')\n",
    "    score_span = next_tr.find(\"span\", class_=\"score\")\n",
    "    score = None\n",
    "    if score_span:\n",
    "        score = \"\".join([x for x in score_span.get_text() if x.isdigit()])\n",
    "    title_element = tr.find(\"span\", class_=\"titleline\")\n",
    "    text = title_element.get_text()\n",
    "    target_links = [x.get('href') for x in tr.find_all('a') if x.get('href').startswith(\"http\")]\n",
    "    target_link = target_links[0] if len(target_links) >= 1 else None\n",
    "    detail_link = detail_pattern.format(item_id = id)\n",
    "    return  {\n",
    "            \"id\": id,\n",
    "            \"text\": text,\n",
    "            'target_link': target_link,\n",
    "            \"score\": score,\n",
    "            \"thread_link\": detail_link\n",
    "        }"
   ]
  },
  {
   "cell_type": "code",
   "execution_count": 7,
   "id": "5efd7eee-42b9-48e0-bd78-efc56030fb28",
   "metadata": {},
   "outputs": [],
   "source": [
    "def scrape_link(url=None, driver=None):\n",
    "    if url is None:\n",
    "        return \"\"\n",
    "    if not f\"{url}\".startswith(\"http\"):\n",
    "        return \"\"\n",
    "    if not driver:\n",
    "        return \"\"\n",
    "    driver.get(url)\n",
    "    return driver.page_source"
   ]
  },
  {
   "cell_type": "code",
   "execution_count": 8,
   "id": "ff3d9031-f8d2-4483-9a71-e669ccf73328",
   "metadata": {},
   "outputs": [],
   "source": [
    "def save_json_data(data, path=None):\n",
    "    id = data.get('id')\n",
    "    json_data = json.dumps(data, indent=4)\n",
    "    if path:\n",
    "        path.write_text(json_data)\n",
    "    "
   ]
  },
  {
   "cell_type": "code",
   "execution_count": 9,
   "id": "2b67f25e-47c9-44fb-9562-55446aa0f379",
   "metadata": {},
   "outputs": [],
   "source": [
    "def scrape_and_save(data, key, driver=None, path=None):\n",
    "    if path is None:\n",
    "        return \n",
    "    try:\n",
    "        data = scrape_link(data.get(key), driver=driver)\n",
    "    except:\n",
    "        data = None\n",
    "    if data is not None:\n",
    "        path.write_text(data)"
   ]
  },
  {
   "cell_type": "code",
   "execution_count": 12,
   "id": "13d61ec5-3ebd-4e7a-9671-01f4ad8d63fe",
   "metadata": {},
   "outputs": [],
   "source": [
    "scrape_all = True\n",
    "save_thread_data = True\n",
    "scrape_thread_detail = False\n",
    "scrape_target = False"
   ]
  },
  {
   "cell_type": "code",
   "execution_count": 13,
   "id": "17e7702d-397f-4b28-9287-b2bbbb8d2867",
   "metadata": {},
   "outputs": [],
   "source": [
    "dataset = []\n",
    "for html_source in html_datas:\n",
    "    soup = BeautifulSoup(html_source, 'html.parser')\n",
    "    rows = soup.find_all('tr', class_=\"athing\")\n",
    "    with Remote(sbr_connection, options=options) as driver:\n",
    "        for tr in rows:\n",
    "            id = tr.attrs.get('id')\n",
    "            post_dir = POSTS_DIR / f\"{id}\"\n",
    "            post_dir.mkdir(parents=True, exist_ok=True)\n",
    "            json_output_path = post_dir  / 'detail.json'\n",
    "            thread_output_path = post_dir / \"thread.html\"\n",
    "            target_output_path = post_dir / \"target.html\"\n",
    "            data = extract_post_data(tr)\n",
    "            if save_thread_data or scrape_all:\n",
    "                if not json_output_path.exists():\n",
    "                    save_json_data(data, path=json_output_path)\n",
    "            if scrape_thread_detail or scrape_all:\n",
    "                if not thread_output_path.exists():\n",
    "                    scrape_and_save(data, 'thread_link', driver=driver, path=thread_output_path)\n",
    "            if scrape_target or scrape_all:\n",
    "                if not target_output_path.exists():\n",
    "                    scrape_and_save(data, 'target_link', driver=driver, path=target_output_path)\n",
    "        "
   ]
  },
  {
   "cell_type": "code",
   "execution_count": null,
   "id": "20584202-ed06-4fff-b4c2-075b36952529",
   "metadata": {},
   "outputs": [],
   "source": []
  },
  {
   "cell_type": "code",
   "execution_count": null,
   "id": "661f446d-c5dd-4df4-b204-73cf5fb358b1",
   "metadata": {},
   "outputs": [],
   "source": []
  }
 ],
 "metadata": {
  "kernelspec": {
   "display_name": "Python 3 (ipykernel)",
   "language": "python",
   "name": "python3"
  },
  "language_info": {
   "codemirror_mode": {
    "name": "ipython",
    "version": 3
   },
   "file_extension": ".py",
   "mimetype": "text/x-python",
   "name": "python",
   "nbconvert_exporter": "python",
   "pygments_lexer": "ipython3",
   "version": "3.11.4"
  }
 },
 "nbformat": 4,
 "nbformat_minor": 5
}
