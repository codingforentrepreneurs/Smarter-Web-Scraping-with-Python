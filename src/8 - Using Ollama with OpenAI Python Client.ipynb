{
 "cells": [
  {
   "cell_type": "code",
   "execution_count": 7,
   "id": "411cc919-3431-43c2-bfe8-2d06ab8a62de",
   "metadata": {},
   "outputs": [],
   "source": [
    "from openai import OpenAI"
   ]
  },
  {
   "cell_type": "code",
   "execution_count": 8,
   "id": "d9e8a79c-64a2-443d-ab93-b98827231f6e",
   "metadata": {},
   "outputs": [],
   "source": [
    "client = OpenAI(\n",
    "    base_url = 'http://localhost:11434/v1',\n",
    "    api_key='ollama', # required, but unused\n",
    ")"
   ]
  },
  {
   "cell_type": "code",
   "execution_count": 9,
   "id": "12d43223-1258-426c-8f39-5b83c25aef14",
   "metadata": {},
   "outputs": [],
   "source": [
    "system_prompts = [\n",
    "    \"You are an expert web scraper and researcher.\",\n",
    "    \"When you get data you perform expert-level summarization and keyword extraction.\"\n",
    "    \"Never repeat what you are.\"\n",
    "]"
   ]
  },
  {
   "cell_type": "code",
   "execution_count": 10,
   "id": "8b08fcbb-acdc-49e0-afaf-18afc0c33797",
   "metadata": {},
   "outputs": [],
   "source": [
    "prompt_start = \"Provide a concise 1-paragraph summary and 5 keywords of the following: \"\n",
    "prompt_end=\"Return response in JSON format\"\n",
    "content = \"\"\"Turn websites into structured data\n",
    "Award-winning proxy networks, powerful web scrapers, and ready-to-use datasets for download. Welcome to the world’s #1 web data platform.\n",
    "\n",
    "Start free trial\n",
    "Sign up with Google\n",
    "google social icon\n",
    "24/7 Support\n",
    "99.99% Uptime\n",
    "CCPA & GDPR Compliant\n",
    "\n",
    "TRUSTED BY 20,000+ CUSTOMERS WORLDWIDE\n",
    "\n",
    "\n",
    "\n",
    "\n",
    "\n",
    "\n",
    "\n",
    "OUR PRODUCTS\n",
    "One platform, multiple ways to get the data you need\n",
    "\n",
    "Datasets no code\n",
    "\n",
    "Datasets\n",
    "Get complete, structured datasets you can trust\n",
    "Get structured and accurate datasets for every use case. If we don’t have the dataset you need in our marketplace yet, we’ll create a custom dataset for you. Learn more\n",
    "\n",
    "\n",
    "Scraping Solutions\n",
    "\n",
    "Proxy Networks\n",
    "POPULAR USE CASES\n",
    "Unlock a competitive advantage in your industry\n",
    "\"\"\".strip()"
   ]
  },
  {
   "cell_type": "code",
   "execution_count": 18,
   "id": "231aea7e-87c1-427a-a071-051501472db7",
   "metadata": {},
   "outputs": [],
   "source": [
    "content =\"\"\"\tHacker News new | past | comments | ask | show | jobs | submit\tlogin\n",
    "Fly.io has GPUs now (fly.io)\n",
    "583 points by andes314 1 day ago | hide | past | favorite | 216 comments\n",
    "\n",
    "\n",
    "\n",
    "\n",
    "\t\n",
    "k8svet 1 day ago | next [–]\n",
    "\n",
    "Does it have basic functioning other stuff? I am shocked at how our production usage of Fly has gone. Even basic stuff as support not being able to just... look up internal platform issues. Cryptic/non-existent error messages. I'm not impressed. It feels like it's compelling to those scared of or ignorant of Kubernetes. I thought I was over Kubernetes, but Fly makes me miss it.\n",
    "reply\n",
    "\n",
    "\t\n",
    "parhamn 1 day ago | parent | next [–]\n",
    "\n",
    "I was hoping to migrate to Fly.io and during my testing I found that simple deploys would drop connections for a few seconds during a deploy switch over. Try a `watch -n 2 curl <serviceipv4>` during a deploy to see for yourself (try any one of the the strategies documented including blue-green). I wonder how many people know this?\n",
    "When I tested it I was hoping for at worst early termination of old connections with no dropped new connections and at best I expected them to gracefully wait for old connections to finish. But nope, just a full downtime switch over every time. But then when you think about the network topology described in their blog posts, you realize theres no way it could've been done correctly to begin with.\n",
    "\n",
    "It's very rare for me to comment negatively on a service but that fact that this was the case paired with the way support acted like we were crazy when we sent video evidence of it definitely irked me for infrastructure company standards. Wouldn't recommend it outside of toy applications now.\n",
    "\n",
    "> It feels like it's compelling to those scared of or ignorant of Kubernetes\n",
    "\n",
    "I've written pretty large deployment systems for kubernetes. This isn't it. Theres a real space for heroku-like deploys done properly and no one is really doing it well (or at least without ridiculously thin or expensive compute resources)\n",
    "\n",
    "reply\n",
    "\n",
    "\t\n",
    "asaddhamani 1 day ago | root | parent | next [–]\n",
    "\n",
    "Yeah I had a similar experience where I got builds frozen for a couple days, such that I was not able to release any updates. When I emailed their support, I got an auto-response asking me to post in the forum. Pretty much all hosts are expected to offer a ticket system even for their unmanaged services if its a problem on their side. I just moved over all my stuff to Render.com, it's more expensive, but its been reliable so far.\n",
    "reply\n",
    "\n",
    "\t\n",
    "loloquwowndueo 1 day ago | root | parent | next [–]\n",
    "\n",
    "The first (pinned) post in the fly.io forum explains it:\n",
    "https://community.fly.io/t/fly-io-support-community-vs-email...\n",
    "\n",
    "reply\n",
    "\n",
    "\t\n",
    "malfist 1 day ago | root | parent | next [–]\n",
    "\n",
    "That forum post just says what OP said, that they will ignore all tickets from unnmanaged customers. Which is a pretty shitty thing to do to your customers.\n",
    "reply\"\"\".strip()"
   ]
  },
  {
   "cell_type": "code",
   "execution_count": 19,
   "id": "5a4a7127-8f87-49e8-b1a3-312d9dd56673",
   "metadata": {},
   "outputs": [],
   "source": [
    "messages=[\n",
    "    {\"role\": \"system\", \"content\": \"\".join(system_prompts)},\n",
    "    {\n",
    "        \"role\": \"user\", \n",
    "        \"content\": prompt_start + content + prompt_end,\n",
    "    }\n",
    "]"
   ]
  },
  {
   "cell_type": "code",
   "execution_count": 20,
   "id": "5772feb5-7385-4aaf-ba12-16acdf19eee5",
   "metadata": {},
   "outputs": [],
   "source": [
    "response = client.chat.completions.create(\n",
    "  model=\"llama2\",\n",
    "  messages=messages,\n",
    " response_format={ \"type\" : \"json_object\" }\n",
    ")"
   ]
  },
  {
   "cell_type": "code",
   "execution_count": 21,
   "id": "ac0b8b06-0fd6-4f2e-94ae-a35cdc5219cc",
   "metadata": {},
   "outputs": [
    {
     "name": "stdout",
     "output_type": "stream",
     "text": [
      "{'id': 'chatcmpl-976', 'choices': [Choice(finish_reason='stop', index=0, logprobs=None, message=ChatCompletionMessage(content='{\"summary\": \"Fly.io users have reported issues with the service\\'s reliability and support, including dropped connections during deploys and unresponsive support tickets.\", \"keywords\": [\"Fly.io\", \"reliability\", \"support\", \"deploys\", \"dropped connections\"]}\\n\\n\\t\\n\\n\\n\\n', role='assistant', function_call=None, tool_calls=None))], 'created': 1708024216, 'model': 'llama2', 'object': 'chat.completion', 'system_fingerprint': 'fp_ollama', 'usage': CompletionUsage(completion_tokens=74, prompt_tokens=780, total_tokens=854)}\n"
     ]
    }
   ],
   "source": [
    "print(dict(response))"
   ]
  },
  {
   "cell_type": "code",
   "execution_count": 22,
   "id": "019df71c-02ff-4013-8211-0f82ed6db6f0",
   "metadata": {},
   "outputs": [
    {
     "name": "stdout",
     "output_type": "stream",
     "text": [
      "{\"summary\": \"Fly.io users have reported issues with the service's reliability and support, including dropped connections during deploys and unresponsive support tickets.\", \"keywords\": [\"Fly.io\", \"reliability\", \"support\", \"deploys\", \"dropped connections\"]}\n",
      "\n",
      "\t\n",
      "\n",
      "\n",
      "\n",
      "\n"
     ]
    }
   ],
   "source": [
    "print(response.choices[0].message.content)"
   ]
  },
  {
   "cell_type": "code",
   "execution_count": 23,
   "id": "9bf721f2-281c-4f05-8c51-e677f28439d7",
   "metadata": {},
   "outputs": [],
   "source": [
    "json_str = response.choices[0].message.content"
   ]
  },
  {
   "cell_type": "code",
   "execution_count": 24,
   "id": "ef1e71e3-ffe3-4a42-b28a-73a85d125f9a",
   "metadata": {},
   "outputs": [],
   "source": [
    "import json"
   ]
  },
  {
   "cell_type": "code",
   "execution_count": 26,
   "id": "b91de6fb-db4a-4e15-97c1-d28b67cb1943",
   "metadata": {},
   "outputs": [
    {
     "data": {
      "text/plain": [
       "['Fly.io', 'reliability', 'support', 'deploys', 'dropped connections']"
      ]
     },
     "execution_count": 26,
     "metadata": {},
     "output_type": "execute_result"
    }
   ],
   "source": [
    "json.loads(json_str).get('keywords')"
   ]
  },
  {
   "cell_type": "code",
   "execution_count": null,
   "id": "044ac21d-c564-4b95-befd-14d0cfbea532",
   "metadata": {},
   "outputs": [],
   "source": []
  }
 ],
 "metadata": {
  "kernelspec": {
   "display_name": "Python 3 (ipykernel)",
   "language": "python",
   "name": "python3"
  },
  "language_info": {
   "codemirror_mode": {
    "name": "ipython",
    "version": 3
   },
   "file_extension": ".py",
   "mimetype": "text/x-python",
   "name": "python",
   "nbconvert_exporter": "python",
   "pygments_lexer": "ipython3",
   "version": "3.11.4"
  }
 },
 "nbformat": 4,
 "nbformat_minor": 5
}
