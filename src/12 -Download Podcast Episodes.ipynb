{
 "cells": [
  {
   "cell_type": "code",
   "execution_count": 2,
   "id": "321aab29-3a1f-42d2-967f-01b5588bcb7a",
   "metadata": {},
   "outputs": [],
   "source": [
    "import pathlib\n",
    "import json\n",
    "import helpers\n",
    "from helpers import ai, apple\n",
    "from bs4 import BeautifulSoup\n",
    "\n",
    "import requests\n",
    "import shutil\n",
    "\n",
    "from urllib.parse import unquote"
   ]
  },
  {
   "cell_type": "code",
   "execution_count": 3,
   "id": "ae52df0f-0413-4abe-bd41-8cdb7efa9b36",
   "metadata": {},
   "outputs": [],
   "source": [
    "NBS_DIR = pathlib.Path().resolve().parent\n",
    "BASE_DIR = NBS_DIR\n",
    "DATASET_DIR = BASE_DIR / \"dataset\""
   ]
  },
  {
   "cell_type": "code",
   "execution_count": 4,
   "id": "fba17482-0359-4cd9-b332-92f568da2c8d",
   "metadata": {},
   "outputs": [],
   "source": [
    "def clean_filename(filename):\n",
    "    \"\"\"\n",
    "    Remove any query parameters \n",
    "    that may be included in the file name\n",
    "    \"\"\"\n",
    "    if not isinstance(filename, str):\n",
    "        return None\n",
    "    if '?' in filename:\n",
    "        cleaned_filename = filename.split('?', 1)[0]\n",
    "    else:\n",
    "        cleaned_filename = filename\n",
    "    return cleaned_filename\n",
    "\n",
    "def download_file(url, destination_path=\".\"):\n",
    "    fname = pathlib.Path(url).name \n",
    "    fname = clean_filename(fname)\n",
    "    suffix = pathlib.Path(fname).suffix\n",
    "    if suffix == \".mp3\":\n",
    "        fname = \"audio.mp3\"\n",
    "    elif suffix == \".mp4\":\n",
    "        fname = \"video.mp4\"\n",
    "    else:\n",
    "        return \n",
    "    outpath = pathlib.Path(destination_path).resolve() / fname\n",
    "    with requests.get(url,  stream=True) as r:\n",
    "        with open(str(outpath), 'wb') as f:\n",
    "            shutil.copyfileobj(r.raw, f)\n",
    "    return fname"
   ]
  },
  {
   "cell_type": "code",
   "execution_count": 5,
   "id": "330f3479-bd22-4147-97c4-051298f2b410",
   "metadata": {},
   "outputs": [],
   "source": [
    "def convert_encoded_url(encoded_url):\n",
    "    \"\"\"\n",
    "    Decode any encoded URL strings for\n",
    "    episdoe downloading\n",
    "    \"\"\"\n",
    "    decoded_url = unquote(encoded_url)\n",
    "    return decoded_url"
   ]
  },
  {
   "cell_type": "code",
   "execution_count": 6,
   "id": "56c04c04-c495-4c47-85d8-f0b4e07de4b6",
   "metadata": {},
   "outputs": [],
   "source": [
    "for path in list(DATASET_DIR.glob(\"**/**/*.mp3\"))[:5]:\n",
    "    path.unlink()"
   ]
  },
  {
   "cell_type": "code",
   "execution_count": 7,
   "id": "55bd58cc-1272-4341-8cd8-b37016a0ae8c",
   "metadata": {},
   "outputs": [],
   "source": [
    "for path in list(DATASET_DIR.glob(\"**/**/*.mp4\"))[:5]:\n",
    "    path.unlink()"
   ]
  },
  {
   "cell_type": "code",
   "execution_count": 11,
   "id": "0f37105f-71b5-47b0-8725-39163dada923",
   "metadata": {},
   "outputs": [
    {
     "name": "stdout",
     "output_type": "stream",
     "text": [
      "audio.mp3\n",
      "audio.mp3\n",
      "video.mp4\n",
      "audio.mp3\n",
      "video.mp4\n"
     ]
    }
   ],
   "source": [
    "for path in list(DATASET_DIR.glob(\"**/**/podcast.json\"))[:5]:\n",
    "    podcast_detail_dir = path.parent\n",
    "    podcasts_dir = podcast_detail_dir.parent\n",
    "    post_dir = podcasts_dir.parent\n",
    "    post_id = post_dir.name\n",
    "    podcast_data = json.loads(path.read_text())\n",
    "    podcast_id = podcast_data.get('trackId')\n",
    "    episode_url = podcast_data.get('episodeUrl')\n",
    "    # print(episode_url, podcast_detail_dir)\n",
    "    episode_url = convert_encoded_url(episode_url)\n",
    "    print(download_file(episode_url, destination_path=podcast_detail_dir))\n",
    "    # print(podcast_detail_dir)\n",
    "    # "
   ]
  },
  {
   "cell_type": "code",
   "execution_count": null,
   "id": "37676a6a-72c0-47c2-81a7-09549e5cb264",
   "metadata": {},
   "outputs": [],
   "source": []
  },
  {
   "cell_type": "code",
   "execution_count": null,
   "id": "43218e0e-a5d3-421b-a4bb-cedb871ff3c4",
   "metadata": {},
   "outputs": [],
   "source": []
  }
 ],
 "metadata": {
  "kernelspec": {
   "display_name": "Python 3 (ipykernel)",
   "language": "python",
   "name": "python3"
  },
  "language_info": {
   "codemirror_mode": {
    "name": "ipython",
    "version": 3
   },
   "file_extension": ".py",
   "mimetype": "text/x-python",
   "name": "python",
   "nbconvert_exporter": "python",
   "pygments_lexer": "ipython3",
   "version": "3.11.4"
  }
 },
 "nbformat": 4,
 "nbformat_minor": 5
}
