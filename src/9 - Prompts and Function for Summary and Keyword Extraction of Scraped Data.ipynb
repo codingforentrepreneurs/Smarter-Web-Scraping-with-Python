{
 "cells": [
  {
   "cell_type": "code",
   "execution_count": 17,
   "id": "321aab29-3a1f-42d2-967f-01b5588bcb7a",
   "metadata": {},
   "outputs": [],
   "source": [
    "import pathlib\n",
    "import json\n",
    "from bs4 import BeautifulSoup\n",
    "\n",
    "from openai import OpenAI"
   ]
  },
  {
   "cell_type": "code",
   "execution_count": 18,
   "id": "ae52df0f-0413-4abe-bd41-8cdb7efa9b36",
   "metadata": {},
   "outputs": [],
   "source": [
    "NBS_DIR = pathlib.Path().resolve().parent\n",
    "BASE_DIR = NBS_DIR\n",
    "DATASET_DIR = BASE_DIR / \"dataset\""
   ]
  },
  {
   "cell_type": "code",
   "execution_count": 19,
   "id": "f13a4b9d-7f63-4176-b2c8-e86a72e5f2bb",
   "metadata": {},
   "outputs": [],
   "source": [
    "def get_openai_client():\n",
    "    return OpenAI(\n",
    "        base_url = 'http://localhost:11434/v1',\n",
    "        api_key='ollama', # required, but unused\n",
    "    )"
   ]
  },
  {
   "cell_type": "code",
   "execution_count": 20,
   "id": "317e2afc-4aa8-40ab-ab47-ef6837620f40",
   "metadata": {},
   "outputs": [],
   "source": [
    "client = get_openai_client()"
   ]
  },
  {
   "cell_type": "code",
   "execution_count": 15,
   "id": "0a1e206c-53d3-4335-8393-db10f0ad03c1",
   "metadata": {},
   "outputs": [],
   "source": [
    "def extract_summary_and_keywords(content=\"\", client=None, raw=None):\n",
    "    if not isinstance(client, OpenAI):\n",
    "        client = get_openai_client()\n",
    "    system_prompt = \"\".join([\n",
    "        \"You are an expert web scraper and researcher.\",\n",
    "        \"When you get data, you perform expert-level summarization and keyword extraction.\",\n",
    "    ])\n",
    "    prompt_start = \"\".join([\n",
    "        \"Extract a 1-word subject of the text as the top ranked keyword.\",\n",
    "        \"Extract and rank top keywords based on the subject matter of only of the text.\",\n",
    "        \"Rank each keyword based on the keyword's importance to the subject matter of the text.\",\n",
    "        \"Provide a concise summary of the contents of the text\",\n",
    "        \"The summary should not include anything related to the discussion nature of the text.\",\n",
    "        \"The summary should not include anything related to the conversation nature of the text.\",\n",
    "        \"The summary should be a minimum 3 paragraphs.\",\n",
    "        \"Use the following text: \"\n",
    "    ])\n",
    "    prompt_end=\"Using format of \\\"{'summary': <generated-summary>, 'keywords': [{value: 'a', rank: 1}, {value: 'b', rank: 2}, {value: 'c', rank: 3}, {value: 'd', rank: 4}, {value: 'e', rank: 5}]}\\\" return a response with json\"\n",
    "    messages=[\n",
    "        {\"role\": \"system\", \"content\": system_prompt},\n",
    "        {\n",
    "            \"role\": \"user\", \n",
    "            \"content\": f\"{prompt_start} {content} {prompt_end}\",\n",
    "        }\n",
    "    ]\n",
    "    response = client.chat.completions.create(\n",
    "      model=\"llama2\",\n",
    "      messages=messages,\n",
    "     response_format={ \"type\" : \"json_object\" }\n",
    "    )\n",
    "    if raw:\n",
    "        return response\n",
    "    try:\n",
    "        return json.loads(response.choices[0].message.content), True\n",
    "    except:\n",
    "        return response.choices[0].message.content, False"
   ]
  },
  {
   "cell_type": "code",
   "execution_count": 21,
   "id": "d9ad7534-32a5-46cd-ba3a-ea6d200f46c6",
   "metadata": {},
   "outputs": [
    {
     "data": {
      "text/plain": [
       "({'summary': \"The goal of making code-based projects in Python is to create efficient, reliable, and scalable software solutions through the use of Python's robust programming language and various libraries and frameworks. This allows developers to focus on developing the logic and functionality of their projects without worrying about the underlying infrastructure.\",\n",
       "  'keywords': [{'value': 'code-based', 'rank': 1},\n",
       "   {'value': 'Python', 'rank': 2},\n",
       "   {'value': 'projects', 'rank': 3},\n",
       "   {'value': 'development', 'rank': 4},\n",
       "   {'value': 'software', 'rank': 5}]},\n",
       " True)"
      ]
     },
     "execution_count": 21,
     "metadata": {},
     "output_type": "execute_result"
    }
   ],
   "source": [
    "extract_summary_and_keywords(\"What is the goal of making code-based projects in Python?\")"
   ]
  },
  {
   "cell_type": "code",
   "execution_count": 22,
   "id": "e9a26f05-e054-4017-8e16-16f8e80015fa",
   "metadata": {},
   "outputs": [
    {
     "data": {
      "text/plain": [
       "({'summary': \"Web scraping data can provide valuable insights and information on various topics, including market trends, customer behavior, and competitive analysis. It can help organizations make informed decisions, improve their operations, and gain a competitive advantage. Some of the most important keywords related to web scraping data include 'web scraping', 'data extraction', 'market research', and 'competitive analysis'.\",\n",
       "  'keywords': [{'value': 'web scraping', 'rank': 1},\n",
       "   {'value': 'data extraction', 'rank': 2},\n",
       "   {'value': 'market research', 'rank': 3},\n",
       "   {'value': 'competitive analysis', 'rank': 4}]},\n",
       " True)"
      ]
     },
     "execution_count": 22,
     "metadata": {},
     "output_type": "execute_result"
    }
   ],
   "source": [
    "extract_summary_and_keywords(\"What is the value of web scraping data?\", client=client)"
   ]
  },
  {
   "cell_type": "code",
   "execution_count": 23,
   "id": "d984a8cc-cfe6-4714-a68a-0bbef8295644",
   "metadata": {},
   "outputs": [
    {
     "data": {
      "text/plain": [
       "({'summary': 'Learning to code and web scrape involves mastering key areas such as programming languages, data manipulation, and web scraping techniques. The most important areas of focus are understanding programming concepts, learning popular programming languages like Python or JavaScript, and developing skills in data manipulation and web scraping tools. By prioritizing these areas, individuals can gain a solid foundation in coding and web scraping, enabling them to tackle complex projects with ease.',\n",
       "  'keywords': [{'value': 'programming languages', 'rank': 1},\n",
       "   {'value': 'data manipulation', 'rank': 2},\n",
       "   {'value': 'web scraping techniques', 'rank': 3}]},\n",
       " True)"
      ]
     },
     "execution_count": 23,
     "metadata": {},
     "output_type": "execute_result"
    }
   ],
   "source": [
    "extract_summary_and_keywords(\"What are the top key areas of learning to code and learning to web scrape?\", client=client)"
   ]
  },
  {
   "cell_type": "code",
   "execution_count": 24,
   "id": "0f37105f-71b5-47b0-8725-39163dada923",
   "metadata": {},
   "outputs": [
    {
     "name": "stdout",
     "output_type": "stream",
     "text": [
      "/Users/cfe/Dev/smarter-scraping/dataset/2024-02-13/posts/39343831/thread.html\n",
      "{'id': '39343831', 'text': 'Systemd by Example (2021) (jambor.dev)', 'target_link': 'https://seb.jambor.dev/posts/systemd-by-example-part-1-minimization/', 'score': '244', 'thread_link': 'https://news.ycombinator.com/item?id=39343831'}\n",
      "{'id': '39343831', 'text': 'Systemd by Example (2021) (jambor.dev)', 'target_link': 'https://seb.jambor.dev/posts/systemd-by-example-part-1-minimization/', 'score': '244', 'thread_link': 'https://news.ycombinator.com/item?id=39343831'} {\n",
      "    \"summary\": \"Exploring the power of ChatGPT for system administration tasks\",\n",
      "    \"keywords\": [\n",
      "        {\n",
      "            \"value\": \"systemd\",\n",
      "            \"rank\": 1\n",
      "        },\n",
      "        {\n",
      "            \"value\": \"ChatGPT\",\n",
      "            \"rank\": 2\n",
      "        },\n",
      "        {\n",
      "            \"value\": \"automation\",\n",
      "            \"rank\": 3\n",
      "        },\n",
      "        {\n",
      "            \"value\": \"configuration management\",\n",
      "            \"rank\": 4\n",
      "        },\n",
      "        {\n",
      "            \"value\": \"embeded devices\",\n",
      "            \"rank\": 5\n",
      "        }\n",
      "    ]\n",
      "}\n",
      "/Users/cfe/Dev/smarter-scraping/dataset/2024-02-13/posts/39383446/thread.html\n",
      "{'id': '39383446', 'text': 'Our next-generation model: Gemini 1.5 (blog.google)', 'target_link': 'https://blog.google/technology/ai/google-gemini-next-generation-model-february-2024/', 'score': '271', 'thread_link': 'https://news.ycombinator.com/item?id=39383446'}\n",
      "{'id': '39383446', 'text': 'Our next-generation model: Gemini 1.5 (blog.google)', 'target_link': 'https://blog.google/technology/ai/google-gemini-next-generation-model-february-2024/', 'score': '271', 'thread_link': 'https://news.ycombinator.com/item?id=39383446'} {}\n",
      "/Users/cfe/Dev/smarter-scraping/dataset/2024-02-13/posts/39344643/thread.html\n",
      "{'id': '39344643', 'text': 'Glowdust is a new kind of database management system (codeberg.org)', 'target_link': 'https://codeberg.org/glowdust/glowdust', 'score': '73', 'thread_link': 'https://news.ycombinator.com/item?id=39344643'}\n",
      "{'id': '39344643', 'text': 'Glowdust is a new kind of database management system (codeberg.org)', 'target_link': 'https://codeberg.org/glowdust/glowdust', 'score': '73', 'thread_link': 'https://news.ycombinator.com/item?id=39344643'} {\n",
      "    \"summary\": \"Using RelationalAI's Rel for Datalog Programming\",\n",
      "    \"keywords\": [\n",
      "        {\n",
      "            \"value\": \"Datalog programming\",\n",
      "            \"rank\": 1\n",
      "        },\n",
      "        {\n",
      "            \"value\": \"Relational AI\",\n",
      "            \"rank\": 2\n",
      "        },\n",
      "        {\n",
      "            \"value\": \"Syntax resembles map-style collection programming\",\n",
      "            \"rank\": 3\n",
      "        },\n",
      "        {\n",
      "            \"value\": \"Inspired by SPARQL and triplestores\",\n",
      "            \"rank\": 4\n",
      "        },\n",
      "        {\n",
      "            \"value\": \"Can add function expressions\",\n",
      "            \"rank\": 5\n",
      "        }\n",
      "    ]\n",
      "}\n",
      "/Users/cfe/Dev/smarter-scraping/dataset/2024-02-13/posts/39366435/thread.html\n",
      "{'id': '39366435', 'text': 'Portal (2021) (macintoshgarden.org)', 'target_link': 'http://macintoshgarden.org/games/portal', 'score': '98', 'thread_link': 'https://news.ycombinator.com/item?id=39366435'}\n",
      "{'id': '39366435', 'text': 'Portal (2021) (macintoshgarden.org)', 'target_link': 'http://macintoshgarden.org/games/portal', 'score': '98', 'thread_link': 'https://news.ycombinator.com/item?id=39366435'} {\n",
      "    \"summary\": \"Exploring the history and evolution of Portal, a groundbreaking video game\",\n",
      "    \"keywords\": [\n",
      "        {\n",
      "            \"value\": \"video games\",\n",
      "            \"rank\": 1\n",
      "        },\n",
      "        {\n",
      "            \"value\": \"Portal\",\n",
      "            \"rank\": 2\n",
      "        },\n",
      "        {\n",
      "            \"value\": \"history\",\n",
      "            \"rank\": 3\n",
      "        },\n",
      "        {\n",
      "            \"value\": \"evolution\",\n",
      "            \"rank\": 4\n",
      "        },\n",
      "        {\n",
      "            \"value\": \"gaming\",\n",
      "            \"rank\": 5\n",
      "        }\n",
      "    ]\n",
      "}\n",
      "/Users/cfe/Dev/smarter-scraping/dataset/2024-02-13/posts/39382227/thread.html\n",
      "{'id': '39382227', 'text': 'Managing mutable data in Elixir with Rust (lambdafunctions.com)', 'target_link': 'https://www.lambdafunctions.com/articles/elixir-and-rust', 'score': '80', 'thread_link': 'https://news.ycombinator.com/item?id=39382227'}\n",
      "{'id': '39382227', 'text': 'Managing mutable data in Elixir with Rust (lambdafunctions.com)', 'target_link': 'https://www.lambdafunctions.com/articles/elixir-and-rust', 'score': '80', 'thread_link': 'https://news.ycombinator.com/item?id=39382227'} {\n",
      "    \"summar\": \"The conversation is about the use of immutability in programming, specifically in Elixir. Some people argue that immutability is not a guarantee of robustness and scalability, while others claim that it is an important foundation for these qualities. The discussion includes arguments from both sides, with some people providing evidence to support their claims and others dismissing the opposing view without providing any evidence. \",\n",
      "    \"keywords\": [\n",
      "        {\n",
      "            \"value\": \"immutability\",\n",
      "            \"rank\": 1\n",
      "        },\n",
      "        {\n",
      "            \"value\": \"scalability\",\n",
      "            \"rank\": 2\n",
      "        },\n",
      "        {\n",
      "            \"value\": \"robustness\",\n",
      "            \"rank\": 3\n",
      "        },\n",
      "        {\n",
      "            \"value\": \"programming\",\n",
      "            \"rank\": 4\n",
      "        }\n",
      "    ]\n",
      "}\n"
     ]
    }
   ],
   "source": [
    "for path in list(DATASET_DIR.glob(\"**/**/thread.html\"))[:5]:\n",
    "    post_id = path.parent.name\n",
    "    output_path = path.parent / 'pred.json'\n",
    "    output_path_txt = path.parent / 'pred.txt'\n",
    "    detail_path = path.parent / 'detail.json'\n",
    "    post_detail = json.loads(detail_path.read_text())\n",
    "    print(path)\n",
    "    print(post_detail)\n",
    "    # if output_path.exists():\n",
    "    #     continue\n",
    "    soup = BeautifulSoup(path.read_text(), 'html.parser')\n",
    "    body = soup.find('body')\n",
    "    # parse the scraped data or scrape more\n",
    "    content = body.get_text()\n",
    "    content = content.replace('new | past | comments | ask | show | jobs | submit', '')\n",
    "    content = content.replace('login', '').replace('Hacker News', '')\n",
    "    content = content.replace('| hide | past | favorite |', '')\n",
    "    content = content.replace('| parent', '')\n",
    "    content = content.replace('| next [–] ', '')\n",
    "    # print(content)\n",
    "    content = content.strip()\n",
    "    # print(content)\n",
    "    try:\n",
    "        pred_data, is_json = extract_summary_and_keywords(content, client=client)\n",
    "        if is_json:\n",
    "            pred_data = json.dumps(pred_data, indent=4)\n",
    "            output_path.write_text(pred_data)\n",
    "        else:\n",
    "            output_path_txt.write_text(pred_data)\n",
    "    except:\n",
    "        continue\n",
    "    print(post_detail, pred_data)"
   ]
  },
  {
   "cell_type": "code",
   "execution_count": null,
   "id": "37676a6a-72c0-47c2-81a7-09549e5cb264",
   "metadata": {},
   "outputs": [],
   "source": []
  },
  {
   "cell_type": "code",
   "execution_count": null,
   "id": "43218e0e-a5d3-421b-a4bb-cedb871ff3c4",
   "metadata": {},
   "outputs": [],
   "source": []
  }
 ],
 "metadata": {
  "kernelspec": {
   "display_name": "Python 3 (ipykernel)",
   "language": "python",
   "name": "python3"
  },
  "language_info": {
   "codemirror_mode": {
    "name": "ipython",
    "version": 3
   },
   "file_extension": ".py",
   "mimetype": "text/x-python",
   "name": "python",
   "nbconvert_exporter": "python",
   "pygments_lexer": "ipython3",
   "version": "3.11.4"
  }
 },
 "nbformat": 4,
 "nbformat_minor": 5
}
