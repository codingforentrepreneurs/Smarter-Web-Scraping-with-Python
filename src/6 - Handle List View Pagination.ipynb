{
 "cells": [
  {
   "cell_type": "code",
   "execution_count": 5,
   "id": "f7108772-334d-4229-a77a-fafb431613cf",
   "metadata": {},
   "outputs": [],
   "source": [
    "import helpers\n",
    "from selenium.webdriver import Remote, ChromeOptions\n",
    "from bs4 import BeautifulSoup\n",
    "import time\n",
    "from datetime import datetime, timezone\n",
    "\n",
    "options = ChromeOptions()\n",
    "max_pages = 10\n",
    "today = \"2024-02-13\"\n",
    "\n",
    "now = datetime.now(timezone.utc)\n",
    "today = now.strftime(\"%Y-%m-%d\")\n",
    "\n",
    "url_pattern = \"https://news.ycombinator.com/front?day={day}&p={page}\"\n",
    "detail_pattern = \"https://news.ycombinator.com/item?id={item_id}\"\n",
    "sbr_connection = helpers.get_sbr_connection()"
   ]
  },
  {
   "cell_type": "code",
   "execution_count": 6,
   "id": "0ca2008f-906f-4161-aa28-472db16e1609",
   "metadata": {},
   "outputs": [],
   "source": [
    "# for page in range(1, 11):\n",
    "#     print(page)"
   ]
  },
  {
   "cell_type": "code",
   "execution_count": 1,
   "id": "0d0df057-aa79-416f-9947-8a634f0dfd33",
   "metadata": {},
   "outputs": [
    {
     "ename": "SyntaxError",
     "evalue": "unterminated string literal (detected at line 9) (3642852238.py, line 9)",
     "output_type": "error",
     "traceback": [
      "\u001b[0;36m  Cell \u001b[0;32mIn[1], line 9\u001b[0;36m\u001b[0m\n\u001b[0;31m    \"\u001b[0m\n\u001b[0m    ^\u001b[0m\n\u001b[0;31mSyntaxError\u001b[0m\u001b[0;31m:\u001b[0m unterminated string literal (detected at line 9)\n"
     ]
    }
   ],
   "source": [
    "html_datas = []\n",
    "with Remote(sbr_connection, options=options) as driver:\n",
    "    for page in range(1, max_pages + 1):\n",
    "        url = url_pattern.format(day=today, page=page)\n",
    "        print(page, url)\n",
    "        driver.get(url) # HTTP GET\n",
    "        time.sleep(2)\n",
    "        html_source = driver.page_source\n",
    "        \"\"\"\n",
    "        Review the notebook\n",
    "        7 - Scrape and Save Data to Local Files.ipynb\n",
    "        to save files\n",
    "        # with open('some-file.html', 'r') as f:\n",
    "        #     f.write(html_source)\n",
    "        \"\"\"\n",
    "        html_datas.append(html_source)"
   ]
  },
  {
   "cell_type": "code",
   "execution_count": 8,
   "id": "17e7702d-397f-4b28-9287-b2bbbb8d2867",
   "metadata": {},
   "outputs": [],
   "source": [
    "post_data = []\n",
    "for html_source in html_datas:\n",
    "    soup = BeautifulSoup(html_source, 'html.parser')\n",
    "    rows = soup.find_all('tr', class_=\"athing\")\n",
    "    for tr in rows:\n",
    "        id = tr.attrs.get('id')\n",
    "        next_tr = tr.find_next('tr')\n",
    "        score_span = next_tr.find(\"span\", class_=\"score\")\n",
    "        score = None\n",
    "        if score_span:\n",
    "            score = \"\".join([x for x in score_span.get_text() if x.isdigit()])\n",
    "        title_element = tr.find(\"span\", class_=\"titleline\")\n",
    "        text = title_element.get_text()\n",
    "        target_links = [x.get('href') for x in tr.find_all('a') if x.get('href').startswith(\"http\")]\n",
    "        target_link_data = target_links[0] if len(target_links) == 1 else target_links\n",
    "        detail_link = detail_pattern.format(item_id = id)\n",
    "        post_data.append(\n",
    "            {\n",
    "                \"id\": id,\n",
    "                \"text\": text,\n",
    "                \"target_link_data\": target_link_data,\n",
    "                \"score\": score,\n",
    "                \"thead_link\": detail_link\n",
    "            }\n",
    "        )"
   ]
  },
  {
   "cell_type": "code",
   "execution_count": 10,
   "id": "20584202-ed06-4fff-b4c2-075b36952529",
   "metadata": {},
   "outputs": [
    {
     "data": {
      "text/plain": [
       "207"
      ]
     },
     "execution_count": 10,
     "metadata": {},
     "output_type": "execute_result"
    }
   ],
   "source": [
    "len(post_data)"
   ]
  },
  {
   "cell_type": "code",
   "execution_count": null,
   "id": "661f446d-c5dd-4df4-b204-73cf5fb358b1",
   "metadata": {},
   "outputs": [],
   "source": []
  }
 ],
 "metadata": {
  "kernelspec": {
   "display_name": "Python 3 (ipykernel)",
   "language": "python",
   "name": "python3"
  },
  "language_info": {
   "codemirror_mode": {
    "name": "ipython",
    "version": 3
   },
   "file_extension": ".py",
   "mimetype": "text/x-python",
   "name": "python",
   "nbconvert_exporter": "python",
   "pygments_lexer": "ipython3",
   "version": "3.11.4"
  }
 },
 "nbformat": 4,
 "nbformat_minor": 5
}
