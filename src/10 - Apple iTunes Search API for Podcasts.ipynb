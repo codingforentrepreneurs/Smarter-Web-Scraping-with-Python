{
 "cells": [
  {
   "cell_type": "code",
   "execution_count": 18,
   "id": "68b08f1c-6fed-413e-9c08-af62e7883b6e",
   "metadata": {},
   "outputs": [],
   "source": [
    "import pathlib\n",
    "import requests\n",
    "import urllib.parse\n",
    "import json\n",
    "from openai import OpenAI"
   ]
  },
  {
   "cell_type": "code",
   "execution_count": 19,
   "id": "5919ee07-4b23-42f7-9a32-33101c34e49f",
   "metadata": {},
   "outputs": [],
   "source": [
    "NBS_DIR = pathlib.Path().resolve().parent\n",
    "BASE_DIR = NBS_DIR\n",
    "DATASET_DIR = BASE_DIR / \"dataset\""
   ]
  },
  {
   "cell_type": "code",
   "execution_count": 20,
   "id": "321aab29-3a1f-42d2-967f-01b5588bcb7a",
   "metadata": {},
   "outputs": [],
   "source": [
    "def url_encode(params):\n",
    "  return urllib.parse.urlencode(params, quote_via=urllib.parse.quote_plus)\n",
    "\n",
    "def get_url(search_term=\"Python programming\"):\n",
    "  params = {\n",
    "      'lang': 'en_us',\n",
    "      'media': 'podcast',\n",
    "      'entity': 'podcastEpisode',\n",
    "      'limit': 10,\n",
    "      'term': search_term\n",
    "  }\n",
    "  encoded_params = url_encode(params)\n",
    "  return f\"https://itunes.apple.com/search?{encoded_params}\""
   ]
  },
  {
   "cell_type": "code",
   "execution_count": 26,
   "id": "ae52df0f-0413-4abe-bd41-8cdb7efa9b36",
   "metadata": {},
   "outputs": [
    {
     "data": {
      "text/plain": [
       "'https://itunes.apple.com/search?lang=en_us&media=podcast&entity=podcastEpisode&limit=10&term=systemd'"
      ]
     },
     "execution_count": 26,
     "metadata": {},
     "output_type": "execute_result"
    }
   ],
   "source": [
    "url = get_url(search_term=\"systemd\")\n",
    "url"
   ]
  },
  {
   "cell_type": "code",
   "execution_count": 27,
   "id": "dfac7420-bfa2-488c-ae2f-d898cd791e1c",
   "metadata": {},
   "outputs": [
    {
     "name": "stdout",
     "output_type": "stream",
     "text": [
      "1 228: Fedora Asahi, GNOME Tiling, KDE Plasma 6, systemd, Zorin, Inkscape & more Linux news! This Week in Linux 2023-08-06T18:32:16Z https://media.blubrry.com/tuxdigital_thisweekinlinux_mp3/aphid.fireside.fm/d/1437767933/2389be04-5c79-485e-b1ca-3a5b2cebb006/ad5270a5-e830-41c6-bc57-219a04b528af.mp3\n",
      "\n",
      "\n",
      "2 Rorschach, QNAP, We Got Hacked, SystemD, UTF-8, & Grub2 Music - PSW #779 Paul's Security Weekly (Video-Only) 2023-04-06T15:37:03Z https://dts.podtrac.com/redirect.mp3/traffic.libsyn.com/secure/pswvideoonly/PSW_779_Seg_2_converted_sd.mp4?dest-id=388584\n",
      "\n",
      "\n",
      "3 systemd su WSL e PNG che contengono il loro stesso MD5 Buongiorno da Edo 2022-09-27T08:25:50Z https://anchor.fm/s/b1bf48a0/podcast/play/58193690/https%3A%2F%2Fd3ctxlq1ktw2nl.cloudfront.net%2Fstaging%2F2022-8-27%2F287900717-44100-2-14b62f86d8c1d.mp3\n",
      "\n",
      "\n",
      "4 ATA 293 Aventuras y desventuras con Systemd Atareao con Linux 2021-06-28T05:12:52Z https://anchor.fm/s/5a5b39c/podcast/play/36305521/https%3A%2F%2Fd3ctxlq1ktw2nl.cloudfront.net%2Fstaging%2F2021-5-28%2Fb305ee0e-c916-90dd-29fb-6b3eea941b86.mp3\n",
      "\n",
      "\n",
      "5 ATA 293 Aventuras y desventuras con Systemd Sospechosos Habituales 2021-06-28T05:12:52Z https://feedpress.me/link/20459/14581111/https%3A%2F%2Fd3ctxlq1ktw2nl.cloudfront.net%2Fstaging%2F2021-5-28%2Fb305ee0e-c916-90dd-29fb-6b3eea941b86.mp3\n",
      "\n",
      "\n",
      "6 Supply Chain Integrity, Format Strings, Systemd Bug, Instagram Bounty, & Refactoring - ASW #155 Security Weekly Podcast Network (Video) 2021-06-22T09:00:00Z https://dts.podtrac.com/redirect.mp3/traffic.libsyn.com/secure/securityweeklytv/ASW_155_-_AppSec_News-0_converted_sd.mp4?dest-id=292819\n",
      "\n",
      "\n",
      "7 037 - Server Infrastructure, systemd, and the Business Side of Sidekiq with Mike Perham Code with Jason 2020-03-24T12:00:00Z https://www.buzzsprout.com/1878319/9478278-037-server-infrastructure-systemd-and-the-business-side-of-sidekiq-with-mike-perham.mp3\n",
      "\n",
      "\n",
      "8 Linux Mint, Mir, Peppermint, MX Linux, VirtualBox, Hacking Books, systemd | This Week in Linux 48 This Week in Linux 2018-12-23T17:28:53Z https://media.blubrry.com/tuxdigital_thisweekinlinux_mp3/aphid.fireside.fm/d/1437767933/2389be04-5c79-485e-b1ca-3a5b2cebb006/50f62a41-f26f-4ea1-ba63-1089ec758f4a.mp3\n",
      "\n",
      "\n",
      "9 DK71: Systemd -- Teil 2 Datenkanal 2018-05-10T21:42:32Z http://static.datenkanal.org/DK071-systemd-ii.mp3\n",
      "\n",
      "\n",
      "10 .Net Open Source e Systemd again OpenCast 2014-11-20T05:00:00Z https://anchor.fm/s/9789fe8/podcast/play/2639837/https%3A%2F%2Fd3ctxlq1ktw2nl.cloudfront.net%2Fproduction%2F2019-2-14%2F11310812-44100-2-f90116f92ac91.mp3\n",
      "\n",
      "\n"
     ]
    }
   ],
   "source": [
    "import requests\n",
    "\n",
    "r = requests.get(url, headers={\"Content-Type\": \"application/json\"})\n",
    "\n",
    "data = r.json()\n",
    "\n",
    "results = data.get('results')\n",
    "\n",
    "results = sorted(results, key=lambda x: x['releaseDate'], reverse=True)\n",
    "\n",
    "for idx, result in enumerate(results):\n",
    "    kind = result.get('kind')\n",
    "    if kind != \"podcast-episode\":\n",
    "        continue\n",
    "    releaseDate = result.get('releaseDate')\n",
    "    podcastName = result['collectionName']\n",
    "    title = result['trackName']\n",
    "    episodeUrl = result['episodeUrl']\n",
    "    print(idx+1, title, podcastName, releaseDate, episodeUrl)\n",
    "    print(\"\\n\")"
   ]
  },
  {
   "cell_type": "code",
   "execution_count": 13,
   "id": "9817b7a9-e5e4-4b02-a25e-80151dce1540",
   "metadata": {},
   "outputs": [],
   "source": [
    "def get_openai_client():\n",
    "    return OpenAI(\n",
    "        base_url = 'http://localhost:11434/v1',\n",
    "        api_key='ollama', # required, but unused\n",
    "    )"
   ]
  },
  {
   "cell_type": "code",
   "execution_count": 28,
   "id": "6ee7277e-77b9-4ec7-a314-e711cee9e91a",
   "metadata": {},
   "outputs": [],
   "source": [
    "def guess_language(content=\"\", client=None, raw=None):\n",
    "    if not isinstance(client, OpenAI):\n",
    "        client = get_openai_client()\n",
    "    system_prompt = \"\".join([\n",
    "        \"You are an expert at deciphering the type of language of text.\",\n",
    "    ])\n",
    "    prompt_start = \"\".join([\n",
    "        \"Repond only with your best guess of what the language is of the input text. Use real human languages.\",\n",
    "        \"Use the following:\"\n",
    "    ])\n",
    "    prompt_end=\"Using format of \\\"{'language': <generated-answer>}\\\" return a response with json\"\n",
    "    messages=[\n",
    "        {\"role\": \"system\", \"content\": system_prompt},\n",
    "        {\n",
    "            \"role\": \"user\", \n",
    "            \"content\": f\"{prompt_start} {content} {prompt_end}\",\n",
    "        }\n",
    "    ]\n",
    "    response = client.chat.completions.create(\n",
    "      model=\"llama2\",\n",
    "      messages=messages,\n",
    "     response_format={ \"type\" : \"json_object\" }\n",
    "    )\n",
    "    if raw:\n",
    "        return response\n",
    "    try:\n",
    "        return json.loads(response.choices[0].message.content), True\n",
    "    except:\n",
    "        return response.choices[0].message.content, False"
   ]
  },
  {
   "cell_type": "code",
   "execution_count": 29,
   "id": "4df7adb9-40c3-44e9-9739-c6fc53c2ea29",
   "metadata": {},
   "outputs": [
    {
     "name": "stdout",
     "output_type": "stream",
     "text": [
      "language German\n"
     ]
    }
   ],
   "source": [
    "pred, is_json = guess_language(\"Binärgewitter Talk #320: Für die Liebe zu systemd Binärgewitter \")\n",
    "if is_json:\n",
    "    print('language', pred.get('language'))"
   ]
  },
  {
   "cell_type": "code",
   "execution_count": 31,
   "id": "37676a6a-72c0-47c2-81a7-09549e5cb264",
   "metadata": {},
   "outputs": [
    {
     "name": "stdout",
     "output_type": "stream",
     "text": [
      "1 English 228: Fedora Asahi, GNOME Tiling, KDE Plasma 6, systemd, Zorin, Inkscape & more Linux news! This Week in Linux 2023-08-06T18:32:16Z https://media.blubrry.com/tuxdigital_thisweekinlinux_mp3/aphid.fireside.fm/d/1437767933/2389be04-5c79-485e-b1ca-3a5b2cebb006/ad5270a5-e830-41c6-bc57-219a04b528af.mp3\n",
      "2 Rorschach Rorschach, QNAP, We Got Hacked, SystemD, UTF-8, & Grub2 Music - PSW #779 Paul's Security Weekly (Video-Only) 2023-04-06T15:37:03Z https://dts.podtrac.com/redirect.mp3/traffic.libsyn.com/secure/pswvideoonly/PSW_779_Seg_2_converted_sd.mp4?dest-id=388584\n",
      "3 C++ systemd su WSL e PNG che contengono il loro stesso MD5 Buongiorno da Edo 2022-09-27T08:25:50Z https://anchor.fm/s/b1bf48a0/podcast/play/58193690/https%3A%2F%2Fd3ctxlq1ktw2nl.cloudfront.net%2Fstaging%2F2022-8-27%2F287900717-44100-2-14b62f86d8c1d.mp3\n",
      "6 English Supply Chain Integrity, Format Strings, Systemd Bug, Instagram Bounty, & Refactoring - ASW #155 Security Weekly Podcast Network (Video) 2021-06-22T09:00:00Z https://dts.podtrac.com/redirect.mp3/traffic.libsyn.com/secure/securityweeklytv/ASW_155_-_AppSec_News-0_converted_sd.mp4?dest-id=292819\n",
      "7 English 037 - Server Infrastructure, systemd, and the Business Side of Sidekiq with Mike Perham Code with Jason 2020-03-24T12:00:00Z https://www.buzzsprout.com/1878319/9478278-037-server-infrastructure-systemd-and-the-business-side-of-sidekiq-with-mike-perham.mp3\n",
      "8 C++ Linux Mint, Mir, Peppermint, MX Linux, VirtualBox, Hacking Books, systemd | This Week in Linux 48 This Week in Linux 2018-12-23T17:28:53Z https://media.blubrry.com/tuxdigital_thisweekinlinux_mp3/aphid.fireside.fm/d/1437767933/2389be04-5c79-485e-b1ca-3a5b2cebb006/50f62a41-f26f-4ea1-ba63-1089ec758f4a.mp3\n",
      "10 English .Net Open Source e Systemd again OpenCast 2014-11-20T05:00:00Z https://anchor.fm/s/9789fe8/podcast/play/2639837/https%3A%2F%2Fd3ctxlq1ktw2nl.cloudfront.net%2Fproduction%2F2019-2-14%2F11310812-44100-2-f90116f92ac91.mp3\n"
     ]
    }
   ],
   "source": [
    "url = get_url(search_term=\"systemd\")\n",
    "r = requests.get(url, headers={\"Content-Type\": \"application/json\"})\n",
    "\n",
    "data = r.json()\n",
    "\n",
    "results = data.get('results')\n",
    "\n",
    "results = sorted(results, key=lambda x: x['releaseDate'], reverse=True)\n",
    "ignore_langs = [x.lower() for x in ['German', 'Russian', 'Japanese', 'Chinese', \"Spanish\"]]\n",
    "\n",
    "for idx, result in enumerate(results):\n",
    "    # print(result)\n",
    "    kind = result.get('kind')\n",
    "    if kind != \"podcast-episode\":\n",
    "        continue\n",
    "    releaseDate = result.get('releaseDate')\n",
    "    podcastName = result['collectionName']\n",
    "    title = result['trackName']\n",
    "    pred_lang, is_json = guess_language(title)\n",
    "    lang = None\n",
    "    if is_json:\n",
    "        lang = pred_lang.get(\"language\")\n",
    "    if f\"{lang}\".lower() in ignore_langs:\n",
    "        continue\n",
    "    episodeUrl = result['episodeUrl']\n",
    "    print(idx+1, lang, title, podcastName, releaseDate, episodeUrl)"
   ]
  },
  {
   "cell_type": "code",
   "execution_count": null,
   "id": "43218e0e-a5d3-421b-a4bb-cedb871ff3c4",
   "metadata": {},
   "outputs": [],
   "source": []
  },
  {
   "cell_type": "code",
   "execution_count": null,
   "id": "961d7812-332a-4368-8ccb-7bb1e7f30b32",
   "metadata": {},
   "outputs": [],
   "source": []
  }
 ],
 "metadata": {
  "kernelspec": {
   "display_name": "Python 3 (ipykernel)",
   "language": "python",
   "name": "python3"
  },
  "language_info": {
   "codemirror_mode": {
    "name": "ipython",
    "version": 3
   },
   "file_extension": ".py",
   "mimetype": "text/x-python",
   "name": "python",
   "nbconvert_exporter": "python",
   "pygments_lexer": "ipython3",
   "version": "3.11.4"
  }
 },
 "nbformat": 4,
 "nbformat_minor": 5
}
